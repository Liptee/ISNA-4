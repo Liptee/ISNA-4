{
  "cells": [
    {
      "cell_type": "code",
      "execution_count": null,
      "metadata": {
        "id": "IRW1d6nUSo9-"
      },
      "outputs": [],
      "source": [
        "!pip install vk_api"
      ]
    },
    {
      "cell_type": "code",
      "execution_count": 2,
      "metadata": {
        "id": "duYuNeapSvCL"
      },
      "outputs": [],
      "source": [
        "import vk_api\n",
        "import networkx as nx\n",
        "from time import sleep\n"
      ]
    },
    {
      "cell_type": "code",
      "execution_count": 3,
      "metadata": {
        "id": "g8QF2MlTS2qd"
      },
      "outputs": [],
      "source": [
        "def auth_handler():\n",
        "  \"\"\"При двухфакторной аутентификации вызывается эта функция\"\"\"\n",
        "  key = input(\"Enter authentication code: \")\n",
        "  remember_device = True\n",
        "  return key, remember_device\n",
        "\n",
        "def captcha_handler(captcha):\n",
        "  \"\"\" При возникновении капчи вызывается эта функция и ей передается объект\n",
        "      капчи. Через метод get_url можно получить ссылку на изображение.\n",
        "      Через метод try_again можно попытаться отправить запрос с кодом капчи\n",
        "  \"\"\"\n",
        "  key = input(\"Enter captcha code {0}: \".format(captcha.get_url())).strip()\n",
        "  return captcha.try_again(key)\n",
        "\n",
        "\n",
        "def stop_f(items):\n",
        "  print(items)\n",
        "\n",
        "def auth(login:str, psswd:str):\n",
        "  vk_session = vk_api.VkApi(login, psswd, auth_handler=auth_handler, captcha_handler=captcha_handler)\n",
        "  try:\n",
        "    vk_session.auth()\n",
        "  except vk_api.AuthError as error_msg:\n",
        "    print(error_msg)\n",
        "  \n",
        "  return vk_session"
      ]
    },
    {
      "cell_type": "code",
      "execution_count": 4,
      "metadata": {
        "id": "GYsJ6Oa-UWv0"
      },
      "outputs": [],
      "source": [
        "vk_session = auth(\"\", \"\")\n",
        "tools = vk_api.VkTools(vk_session)"
      ]
    },
    {
      "cell_type": "code",
      "execution_count": 5,
      "metadata": {
        "id": "4NCT_F8wUm3E"
      },
      "outputs": [],
      "source": [
        "def get_groups_users(friend_list, tools):\n",
        "  friends_out = {}\n",
        "  for friend in friend_list:\n",
        "    try:\n",
        "      friends_out[friend] = tools.get_all(\"friends.get\", 100, {\"user_id\": friend})\n",
        "    except Exception:\n",
        "      friends_out[friend] = []\n",
        "  sleep(1)\n",
        "  return friends_out"
      ]
    },
    {
      "cell_type": "code",
      "execution_count": null,
      "metadata": {
        "id": "To59SYOqVIoB"
      },
      "outputs": [],
      "source": [
        "my_user_id = ###choose id\n",
        "friends_list = [my_user_id]\n",
        "friends_out = get_groups_users(friends_list, tools)\n",
        "print(friends_out)"
      ]
    },
    {
      "cell_type": "code",
      "execution_count": 7,
      "metadata": {
        "id": "WiAec0lNVc_u"
      },
      "outputs": [],
      "source": [
        "new_friends_list = [my_user_id]\n",
        "for id in friends_out[my_user_id]['items']:\n",
        "  new_friends_list.append(id)"
      ]
    },
    {
      "cell_type": "code",
      "execution_count": 8,
      "metadata": {
        "id": "heLXLymkV_QE"
      },
      "outputs": [],
      "source": [
        "friend_of_friend_list = get_groups_users(new_friends_list, tools)"
      ]
    },
    {
      "cell_type": "code",
      "execution_count": 9,
      "metadata": {
        "id": "ekkhyORLWw7n"
      },
      "outputs": [],
      "source": [
        "def add_edge(f_item, s_item, graph):\n",
        "  graph.add_edge(f_item, s_item)\n",
        "  graph.add_edge(s_item, f_item)"
      ]
    },
    {
      "cell_type": "code",
      "execution_count": 10,
      "metadata": {
        "id": "ZyUNLVx8Wjjd"
      },
      "outputs": [],
      "source": [
        "G = nx.Graph()\n",
        "for id in list(friend_of_friend_list):\n",
        "  G.add_node(id)"
      ]
    },
    {
      "cell_type": "code",
      "execution_count": 11,
      "metadata": {
        "id": "GrUYaX4JW4vn"
      },
      "outputs": [],
      "source": [
        "for id in list(friend_of_friend_list):\n",
        "  try:\n",
        "    for friend_id in friend_of_friend_list[id]['items']:\n",
        "      add_edge(id, friend_id, G)\n",
        "  except:\n",
        "    pass"
      ]
    },
    {
      "cell_type": "code",
      "execution_count": 12,
      "metadata": {
        "id": "gQYpEM0nEKmL"
      },
      "outputs": [],
      "source": [
        "nx.write_gexf(G, \"my_graph.gexf\")"
      ]
    }
  ],
  "metadata": {
    "colab": {
      "provenance": []
    },
    "kernelspec": {
      "display_name": "Python 3",
      "name": "python3"
    },
    "language_info": {
      "name": "python"
    }
  },
  "nbformat": 4,
  "nbformat_minor": 0
}
